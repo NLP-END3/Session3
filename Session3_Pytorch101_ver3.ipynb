{
  "nbformat": 4,
  "nbformat_minor": 0,
  "metadata": {
    "colab": {
      "name": "Session3_Pytorch101_ver2.ipynb",
      "provenance": [],
      "toc_visible": true,
      "include_colab_link": true
    },
    "kernelspec": {
      "name": "python3",
      "display_name": "Python 3"
    },
    "language_info": {
      "name": "python"
    },
    "accelerator": "GPU",
    "widgets": {
      "application/vnd.jupyter.widget-state+json": {
        "ecaef9784fdd468fade6e86b3046863c": {
          "model_module": "@jupyter-widgets/controls",
          "model_name": "HBoxModel",
          "model_module_version": "1.5.0",
          "state": {
            "_view_name": "HBoxView",
            "_dom_classes": [],
            "_model_name": "HBoxModel",
            "_view_module": "@jupyter-widgets/controls",
            "_model_module_version": "1.5.0",
            "_view_count": null,
            "_view_module_version": "1.5.0",
            "box_style": "",
            "layout": "IPY_MODEL_0451ff5d01e94462991f3ab3b2049871",
            "_model_module": "@jupyter-widgets/controls",
            "children": [
              "IPY_MODEL_ed14ea73c5b14968a51090785c813888",
              "IPY_MODEL_5377e8d0eb5e4b239cbd2fd949aeac47",
              "IPY_MODEL_8725682beab04180b7362142a3460738"
            ]
          }
        },
        "0451ff5d01e94462991f3ab3b2049871": {
          "model_module": "@jupyter-widgets/base",
          "model_name": "LayoutModel",
          "model_module_version": "1.2.0",
          "state": {
            "_view_name": "LayoutView",
            "grid_template_rows": null,
            "right": null,
            "justify_content": null,
            "_view_module": "@jupyter-widgets/base",
            "overflow": null,
            "_model_module_version": "1.2.0",
            "_view_count": null,
            "flex_flow": null,
            "width": null,
            "min_width": null,
            "border": null,
            "align_items": null,
            "bottom": null,
            "_model_module": "@jupyter-widgets/base",
            "top": null,
            "grid_column": null,
            "overflow_y": null,
            "overflow_x": null,
            "grid_auto_flow": null,
            "grid_area": null,
            "grid_template_columns": null,
            "flex": null,
            "_model_name": "LayoutModel",
            "justify_items": null,
            "grid_row": null,
            "max_height": null,
            "align_content": null,
            "visibility": null,
            "align_self": null,
            "height": null,
            "min_height": null,
            "padding": null,
            "grid_auto_rows": null,
            "grid_gap": null,
            "max_width": null,
            "order": null,
            "_view_module_version": "1.2.0",
            "grid_template_areas": null,
            "object_position": null,
            "object_fit": null,
            "grid_auto_columns": null,
            "margin": null,
            "display": null,
            "left": null
          }
        },
        "ed14ea73c5b14968a51090785c813888": {
          "model_module": "@jupyter-widgets/controls",
          "model_name": "HTMLModel",
          "model_module_version": "1.5.0",
          "state": {
            "_view_name": "HTMLView",
            "style": "IPY_MODEL_806c81d29b144a50924cf00dfb0eaa68",
            "_dom_classes": [],
            "description": "",
            "_model_name": "HTMLModel",
            "placeholder": "​",
            "_view_module": "@jupyter-widgets/controls",
            "_model_module_version": "1.5.0",
            "value": "",
            "_view_count": null,
            "_view_module_version": "1.5.0",
            "description_tooltip": null,
            "_model_module": "@jupyter-widgets/controls",
            "layout": "IPY_MODEL_564569f5c1b4462a84f4fd36029cfe53"
          }
        },
        "5377e8d0eb5e4b239cbd2fd949aeac47": {
          "model_module": "@jupyter-widgets/controls",
          "model_name": "FloatProgressModel",
          "model_module_version": "1.5.0",
          "state": {
            "_view_name": "ProgressView",
            "style": "IPY_MODEL_0cbad08cb70e49fc8b8fa2c3d7556034",
            "_dom_classes": [],
            "description": "",
            "_model_name": "FloatProgressModel",
            "bar_style": "success",
            "max": 9912422,
            "_view_module": "@jupyter-widgets/controls",
            "_model_module_version": "1.5.0",
            "value": 9912422,
            "_view_count": null,
            "_view_module_version": "1.5.0",
            "orientation": "horizontal",
            "min": 0,
            "description_tooltip": null,
            "_model_module": "@jupyter-widgets/controls",
            "layout": "IPY_MODEL_c06432b25344413eaf1ddec36eb4e3ed"
          }
        },
        "8725682beab04180b7362142a3460738": {
          "model_module": "@jupyter-widgets/controls",
          "model_name": "HTMLModel",
          "model_module_version": "1.5.0",
          "state": {
            "_view_name": "HTMLView",
            "style": "IPY_MODEL_064831c301084bc4a36e8887b1d19121",
            "_dom_classes": [],
            "description": "",
            "_model_name": "HTMLModel",
            "placeholder": "​",
            "_view_module": "@jupyter-widgets/controls",
            "_model_module_version": "1.5.0",
            "value": " 9913344/? [00:00&lt;00:00, 54244460.83it/s]",
            "_view_count": null,
            "_view_module_version": "1.5.0",
            "description_tooltip": null,
            "_model_module": "@jupyter-widgets/controls",
            "layout": "IPY_MODEL_6c9c02d354594501be00a67779551a46"
          }
        },
        "806c81d29b144a50924cf00dfb0eaa68": {
          "model_module": "@jupyter-widgets/controls",
          "model_name": "DescriptionStyleModel",
          "model_module_version": "1.5.0",
          "state": {
            "_view_name": "StyleView",
            "_model_name": "DescriptionStyleModel",
            "description_width": "",
            "_view_module": "@jupyter-widgets/base",
            "_model_module_version": "1.5.0",
            "_view_count": null,
            "_view_module_version": "1.2.0",
            "_model_module": "@jupyter-widgets/controls"
          }
        },
        "564569f5c1b4462a84f4fd36029cfe53": {
          "model_module": "@jupyter-widgets/base",
          "model_name": "LayoutModel",
          "model_module_version": "1.2.0",
          "state": {
            "_view_name": "LayoutView",
            "grid_template_rows": null,
            "right": null,
            "justify_content": null,
            "_view_module": "@jupyter-widgets/base",
            "overflow": null,
            "_model_module_version": "1.2.0",
            "_view_count": null,
            "flex_flow": null,
            "width": null,
            "min_width": null,
            "border": null,
            "align_items": null,
            "bottom": null,
            "_model_module": "@jupyter-widgets/base",
            "top": null,
            "grid_column": null,
            "overflow_y": null,
            "overflow_x": null,
            "grid_auto_flow": null,
            "grid_area": null,
            "grid_template_columns": null,
            "flex": null,
            "_model_name": "LayoutModel",
            "justify_items": null,
            "grid_row": null,
            "max_height": null,
            "align_content": null,
            "visibility": null,
            "align_self": null,
            "height": null,
            "min_height": null,
            "padding": null,
            "grid_auto_rows": null,
            "grid_gap": null,
            "max_width": null,
            "order": null,
            "_view_module_version": "1.2.0",
            "grid_template_areas": null,
            "object_position": null,
            "object_fit": null,
            "grid_auto_columns": null,
            "margin": null,
            "display": null,
            "left": null
          }
        },
        "0cbad08cb70e49fc8b8fa2c3d7556034": {
          "model_module": "@jupyter-widgets/controls",
          "model_name": "ProgressStyleModel",
          "model_module_version": "1.5.0",
          "state": {
            "_view_name": "StyleView",
            "_model_name": "ProgressStyleModel",
            "description_width": "",
            "_view_module": "@jupyter-widgets/base",
            "_model_module_version": "1.5.0",
            "_view_count": null,
            "_view_module_version": "1.2.0",
            "bar_color": null,
            "_model_module": "@jupyter-widgets/controls"
          }
        },
        "c06432b25344413eaf1ddec36eb4e3ed": {
          "model_module": "@jupyter-widgets/base",
          "model_name": "LayoutModel",
          "model_module_version": "1.2.0",
          "state": {
            "_view_name": "LayoutView",
            "grid_template_rows": null,
            "right": null,
            "justify_content": null,
            "_view_module": "@jupyter-widgets/base",
            "overflow": null,
            "_model_module_version": "1.2.0",
            "_view_count": null,
            "flex_flow": null,
            "width": null,
            "min_width": null,
            "border": null,
            "align_items": null,
            "bottom": null,
            "_model_module": "@jupyter-widgets/base",
            "top": null,
            "grid_column": null,
            "overflow_y": null,
            "overflow_x": null,
            "grid_auto_flow": null,
            "grid_area": null,
            "grid_template_columns": null,
            "flex": null,
            "_model_name": "LayoutModel",
            "justify_items": null,
            "grid_row": null,
            "max_height": null,
            "align_content": null,
            "visibility": null,
            "align_self": null,
            "height": null,
            "min_height": null,
            "padding": null,
            "grid_auto_rows": null,
            "grid_gap": null,
            "max_width": null,
            "order": null,
            "_view_module_version": "1.2.0",
            "grid_template_areas": null,
            "object_position": null,
            "object_fit": null,
            "grid_auto_columns": null,
            "margin": null,
            "display": null,
            "left": null
          }
        },
        "064831c301084bc4a36e8887b1d19121": {
          "model_module": "@jupyter-widgets/controls",
          "model_name": "DescriptionStyleModel",
          "model_module_version": "1.5.0",
          "state": {
            "_view_name": "StyleView",
            "_model_name": "DescriptionStyleModel",
            "description_width": "",
            "_view_module": "@jupyter-widgets/base",
            "_model_module_version": "1.5.0",
            "_view_count": null,
            "_view_module_version": "1.2.0",
            "_model_module": "@jupyter-widgets/controls"
          }
        },
        "6c9c02d354594501be00a67779551a46": {
          "model_module": "@jupyter-widgets/base",
          "model_name": "LayoutModel",
          "model_module_version": "1.2.0",
          "state": {
            "_view_name": "LayoutView",
            "grid_template_rows": null,
            "right": null,
            "justify_content": null,
            "_view_module": "@jupyter-widgets/base",
            "overflow": null,
            "_model_module_version": "1.2.0",
            "_view_count": null,
            "flex_flow": null,
            "width": null,
            "min_width": null,
            "border": null,
            "align_items": null,
            "bottom": null,
            "_model_module": "@jupyter-widgets/base",
            "top": null,
            "grid_column": null,
            "overflow_y": null,
            "overflow_x": null,
            "grid_auto_flow": null,
            "grid_area": null,
            "grid_template_columns": null,
            "flex": null,
            "_model_name": "LayoutModel",
            "justify_items": null,
            "grid_row": null,
            "max_height": null,
            "align_content": null,
            "visibility": null,
            "align_self": null,
            "height": null,
            "min_height": null,
            "padding": null,
            "grid_auto_rows": null,
            "grid_gap": null,
            "max_width": null,
            "order": null,
            "_view_module_version": "1.2.0",
            "grid_template_areas": null,
            "object_position": null,
            "object_fit": null,
            "grid_auto_columns": null,
            "margin": null,
            "display": null,
            "left": null
          }
        }
      }
    }
  },
  "cells": [
    {
      "cell_type": "markdown",
      "metadata": {
        "id": "view-in-github",
        "colab_type": "text"
      },
      "source": [
        "<a href=\"https://colab.research.google.com/github/NLP-END3/Session3/blob/main/Session3_Pytorch101_ver3.ipynb\" target=\"_parent\"><img src=\"https://colab.research.google.com/assets/colab-badge.svg\" alt=\"Open In Colab\"/></a>"
      ]
    },
    {
      "cell_type": "markdown",
      "metadata": {
        "id": "4bxydVRloBpO"
      },
      "source": [
        "## 1. Problem Statement\n",
        "\n",
        "Write a neural network that can:\n",
        "\n",
        "1. take 2 inputs:\n",
        "    - an image from the MNIST dataset (say 5), and\n",
        "    - a random number between 0 and 9, (say 7)\n",
        "2. and gives two outputs:\n",
        "    - the \"number\" that was represented by the MNIST image (predict 5), and\n",
        "    - the \"sum\" of this number with the random number and the input image to the network (predict 5 + 7 = 12)\n",
        "3. you can mix fully connected layers and convolution layers\n",
        "4. you can use one-hot encoding to represent the random number input as well as the \"summed\" output.  \n",
        "    a. Random number (7) can be represented as 0 0 0 0 0 0 0 1 0 0  \n",
        "    b. Sum (13) can be represented as: 1. 0 0 0 0 0 0 0 0 0 0 0 0 0 1 0 0 0 0 0  \n",
        "    c. 0b1101 (remember that 4 digits in binary can at max represent 15, so we may need to go for 5 digits. i.e. 10010  "
      ]
    },
    {
      "cell_type": "markdown",
      "metadata": {
        "id": "pCYKM8CvKPwH"
      },
      "source": [
        "## 2. Importing required libraries & Checking GPU\n"
      ]
    },
    {
      "cell_type": "code",
      "metadata": {
        "id": "nEdgomGU6sBv",
        "colab": {
          "base_uri": "https://localhost:8080/"
        },
        "outputId": "5d261802-a72b-42f8-d97e-ebd3846475c7"
      },
      "source": [
        "import argparse\n",
        "import torch\n",
        "import torch.nn as nn\n",
        "import torch.optim as optim\n",
        "import torchvision\n",
        "import torch.nn.functional as F\n",
        "from torchvision import datasets, transforms\n",
        "from torch.autograd import Variable\n",
        "import matplotlib.pyplot as plt\n",
        "\n",
        "print(torch.cuda.is_available())  # Checks if GPU is available\n",
        "print(torch.cuda.get_device_name(0)) # Name of GPU\n",
        "print(torch.cuda.device_count())"
      ],
      "execution_count": 1,
      "outputs": [
        {
          "output_type": "stream",
          "name": "stdout",
          "text": [
            "True\n",
            "Tesla K80\n",
            "1\n"
          ]
        }
      ]
    },
    {
      "cell_type": "markdown",
      "metadata": {
        "id": "gGpC3QGI7NJU"
      },
      "source": [
        "## 3. Importing MNIST dataset from pytorch"
      ]
    },
    {
      "cell_type": "code",
      "metadata": {
        "id": "_l4RLz-c7MOm",
        "colab": {
          "base_uri": "https://localhost:8080/",
          "height": 871,
          "referenced_widgets": [
            "ecaef9784fdd468fade6e86b3046863c",
            "0451ff5d01e94462991f3ab3b2049871",
            "ed14ea73c5b14968a51090785c813888",
            "5377e8d0eb5e4b239cbd2fd949aeac47",
            "8725682beab04180b7362142a3460738",
            "806c81d29b144a50924cf00dfb0eaa68",
            "564569f5c1b4462a84f4fd36029cfe53",
            "0cbad08cb70e49fc8b8fa2c3d7556034",
            "c06432b25344413eaf1ddec36eb4e3ed",
            "064831c301084bc4a36e8887b1d19121",
            "6c9c02d354594501be00a67779551a46"
          ]
        },
        "outputId": "72c84978-6dca-42c6-c0cd-8233dc95216f"
      },
      "source": [
        "transform=transforms.Compose([\n",
        "        transforms.ToTensor(),\n",
        "        transforms.Normalize((0.1307,), (0.3081,))\n",
        "        ])\n",
        "\n",
        "mnist_train = datasets.MNIST('../data',train=True,download=True) # Train dataset\n",
        "mnist_test = datasets.MNIST('./data',train=False,download=True) # Test dataset"
      ],
      "execution_count": 2,
      "outputs": [
        {
          "output_type": "stream",
          "name": "stdout",
          "text": [
            "Downloading http://yann.lecun.com/exdb/mnist/train-images-idx3-ubyte.gz\n",
            "Downloading http://yann.lecun.com/exdb/mnist/train-images-idx3-ubyte.gz to ../data/MNIST/raw/train-images-idx3-ubyte.gz\n"
          ]
        },
        {
          "output_type": "display_data",
          "data": {
            "application/vnd.jupyter.widget-view+json": {
              "model_id": "ecaef9784fdd468fade6e86b3046863c",
              "version_minor": 0,
              "version_major": 2
            },
            "text/plain": [
              "  0%|          | 0/9912422 [00:00<?, ?it/s]"
            ]
          },
          "metadata": {}
        },
        {
          "output_type": "stream",
          "name": "stdout",
          "text": [
            "Extracting ../data/MNIST/raw/train-images-idx3-ubyte.gz to ../data/MNIST/raw\n",
            "\n",
            "Downloading http://yann.lecun.com/exdb/mnist/train-labels-idx1-ubyte.gz\n",
            "Downloading http://yann.lecun.com/exdb/mnist/train-labels-idx1-ubyte.gz to ../data/MNIST/raw/train-labels-idx1-ubyte.gz\n"
          ]
        },
        {
          "output_type": "display_data",
          "data": {
            "application/vnd.jupyter.widget-view+json": {
              "model_id": "f5f611c073ff4eccade97a58a4a4ab08",
              "version_minor": 0,
              "version_major": 2
            },
            "text/plain": [
              "  0%|          | 0/28881 [00:00<?, ?it/s]"
            ]
          },
          "metadata": {}
        },
        {
          "output_type": "stream",
          "name": "stdout",
          "text": [
            "Extracting ../data/MNIST/raw/train-labels-idx1-ubyte.gz to ../data/MNIST/raw\n",
            "\n",
            "Downloading http://yann.lecun.com/exdb/mnist/t10k-images-idx3-ubyte.gz\n",
            "Downloading http://yann.lecun.com/exdb/mnist/t10k-images-idx3-ubyte.gz to ../data/MNIST/raw/t10k-images-idx3-ubyte.gz\n"
          ]
        },
        {
          "output_type": "display_data",
          "data": {
            "application/vnd.jupyter.widget-view+json": {
              "model_id": "c8b989d87b7e4294bacffdd92ddaf123",
              "version_minor": 0,
              "version_major": 2
            },
            "text/plain": [
              "  0%|          | 0/1648877 [00:00<?, ?it/s]"
            ]
          },
          "metadata": {}
        },
        {
          "output_type": "stream",
          "name": "stdout",
          "text": [
            "Extracting ../data/MNIST/raw/t10k-images-idx3-ubyte.gz to ../data/MNIST/raw\n",
            "\n",
            "Downloading http://yann.lecun.com/exdb/mnist/t10k-labels-idx1-ubyte.gz\n",
            "Downloading http://yann.lecun.com/exdb/mnist/t10k-labels-idx1-ubyte.gz to ../data/MNIST/raw/t10k-labels-idx1-ubyte.gz\n"
          ]
        },
        {
          "output_type": "display_data",
          "data": {
            "application/vnd.jupyter.widget-view+json": {
              "model_id": "1950ff76d0e24ee1ba422dfa2f16425f",
              "version_minor": 0,
              "version_major": 2
            },
            "text/plain": [
              "  0%|          | 0/4542 [00:00<?, ?it/s]"
            ]
          },
          "metadata": {}
        },
        {
          "output_type": "stream",
          "name": "stdout",
          "text": [
            "Extracting ../data/MNIST/raw/t10k-labels-idx1-ubyte.gz to ../data/MNIST/raw\n",
            "\n",
            "Downloading http://yann.lecun.com/exdb/mnist/train-images-idx3-ubyte.gz\n",
            "Downloading http://yann.lecun.com/exdb/mnist/train-images-idx3-ubyte.gz to ./data/MNIST/raw/train-images-idx3-ubyte.gz\n"
          ]
        },
        {
          "output_type": "stream",
          "name": "stderr",
          "text": [
            "/usr/local/lib/python3.7/dist-packages/torchvision/datasets/mnist.py:498: UserWarning: The given NumPy array is not writeable, and PyTorch does not support non-writeable tensors. This means you can write to the underlying (supposedly non-writeable) NumPy array using the tensor. You may want to copy the array to protect its data or make it writeable before converting it to a tensor. This type of warning will be suppressed for the rest of this program. (Triggered internally at  /pytorch/torch/csrc/utils/tensor_numpy.cpp:180.)\n",
            "  return torch.from_numpy(parsed.astype(m[2], copy=False)).view(*s)\n"
          ]
        },
        {
          "output_type": "display_data",
          "data": {
            "application/vnd.jupyter.widget-view+json": {
              "model_id": "e9270b7868c54acda2d88d98ff889e44",
              "version_minor": 0,
              "version_major": 2
            },
            "text/plain": [
              "  0%|          | 0/9912422 [00:00<?, ?it/s]"
            ]
          },
          "metadata": {}
        },
        {
          "output_type": "stream",
          "name": "stdout",
          "text": [
            "Extracting ./data/MNIST/raw/train-images-idx3-ubyte.gz to ./data/MNIST/raw\n",
            "\n",
            "Downloading http://yann.lecun.com/exdb/mnist/train-labels-idx1-ubyte.gz\n",
            "Downloading http://yann.lecun.com/exdb/mnist/train-labels-idx1-ubyte.gz to ./data/MNIST/raw/train-labels-idx1-ubyte.gz\n"
          ]
        },
        {
          "output_type": "display_data",
          "data": {
            "application/vnd.jupyter.widget-view+json": {
              "model_id": "e0f85005a676498bbc04e83cfb67a9a1",
              "version_minor": 0,
              "version_major": 2
            },
            "text/plain": [
              "  0%|          | 0/28881 [00:00<?, ?it/s]"
            ]
          },
          "metadata": {}
        },
        {
          "output_type": "stream",
          "name": "stdout",
          "text": [
            "Extracting ./data/MNIST/raw/train-labels-idx1-ubyte.gz to ./data/MNIST/raw\n",
            "\n",
            "Downloading http://yann.lecun.com/exdb/mnist/t10k-images-idx3-ubyte.gz\n",
            "Downloading http://yann.lecun.com/exdb/mnist/t10k-images-idx3-ubyte.gz to ./data/MNIST/raw/t10k-images-idx3-ubyte.gz\n"
          ]
        },
        {
          "output_type": "display_data",
          "data": {
            "application/vnd.jupyter.widget-view+json": {
              "model_id": "63c231e080fc4248be2db1f9c6a7d887",
              "version_minor": 0,
              "version_major": 2
            },
            "text/plain": [
              "  0%|          | 0/1648877 [00:00<?, ?it/s]"
            ]
          },
          "metadata": {}
        },
        {
          "output_type": "stream",
          "name": "stdout",
          "text": [
            "Extracting ./data/MNIST/raw/t10k-images-idx3-ubyte.gz to ./data/MNIST/raw\n",
            "\n",
            "Downloading http://yann.lecun.com/exdb/mnist/t10k-labels-idx1-ubyte.gz\n",
            "Downloading http://yann.lecun.com/exdb/mnist/t10k-labels-idx1-ubyte.gz to ./data/MNIST/raw/t10k-labels-idx1-ubyte.gz\n"
          ]
        },
        {
          "output_type": "display_data",
          "data": {
            "application/vnd.jupyter.widget-view+json": {
              "model_id": "369c21e525754571bb0d0d183a5f5210",
              "version_minor": 0,
              "version_major": 2
            },
            "text/plain": [
              "  0%|          | 0/4542 [00:00<?, ?it/s]"
            ]
          },
          "metadata": {}
        },
        {
          "output_type": "stream",
          "name": "stdout",
          "text": [
            "Extracting ./data/MNIST/raw/t10k-labels-idx1-ubyte.gz to ./data/MNIST/raw\n",
            "\n"
          ]
        }
      ]
    },
    {
      "cell_type": "markdown",
      "metadata": {
        "id": "GjmKTyJOLrAv"
      },
      "source": [
        "## 3. Plotting few samples of the downloaded data"
      ]
    },
    {
      "cell_type": "code",
      "metadata": {
        "colab": {
          "base_uri": "https://localhost:8080/",
          "height": 585
        },
        "id": "a3AX1A3jLqV8",
        "outputId": "a6646f13-f7d9-4f80-b5bc-29941ff150ec"
      },
      "source": [
        "figure = plt.figure(figsize=(8, 8))\n",
        "cols, rows = 10, 10\n",
        "for i in range(1, cols * rows + 1):\n",
        "    sample_idx = torch.randint(len(mnist_train), size=(1,)).item()\n",
        "    img, label = mnist_train[sample_idx]\n",
        "    figure.add_subplot(rows, cols, i)\n",
        "    plt.title(label)\n",
        "    plt.axis(\"off\")\n",
        "    plt.imshow(img, cmap=\"gray\")\n",
        "figure.tight_layout()\n",
        "plt.show()"
      ],
      "execution_count": 3,
      "outputs": [
        {
          "output_type": "display_data",
          "data": {
            "image/png": "[encoded data removed]",
            "text/plain": [
              "<Figure size 576x576 with 100 Axes>"
            ]
          },
          "metadata": {
            "needs_background": "light"
          }
        }
      ]
    },
    {
      "cell_type": "code",
      "metadata": {
        "id": "IhFULDhUmDqT"
      },
      "source": [
        "#dir(mnist_train)"
      ],
      "execution_count": 4,
      "outputs": []
    },
    {
      "cell_type": "markdown",
      "metadata": {
        "id": "_KWhT4kdbOmn"
      },
      "source": [
        "## 4. Checking the size of the image, label and image information"
      ]
    },
    {
      "cell_type": "code",
      "metadata": {
        "colab": {
          "base_uri": "https://localhost:8080/"
        },
        "id": "cvo-DfNHJbAb",
        "outputId": "2f728b6e-fdcc-4b78-a3dd-b1d4c87926f0"
      },
      "source": [
        "print(f'Number of examples in training dataset :{len(mnist_train)}')\n",
        "print(f'Shape of the training dataset - images : {mnist_train.data.shape}')\n",
        "print(f'Labels in the training dataset : {mnist_train.targets}')"
      ],
      "execution_count": 5,
      "outputs": [
        {
          "output_type": "stream",
          "name": "stdout",
          "text": [
            "Number of examples in training dataset :60000\n",
            "Shape of the training dataset - images : torch.Size([60000, 28, 28])\n",
            "Labels in the training dataset : tensor([5, 0, 4,  ..., 5, 6, 8])\n"
          ]
        }
      ]
    },
    {
      "cell_type": "markdown",
      "metadata": {
        "id": "bWOllBGyqG51"
      },
      "source": [
        "## 5. Defining Custom Dataset Class"
      ]
    },
    {
      "cell_type": "code",
      "metadata": {
        "id": "BIYJtv69qGmG"
      },
      "source": [
        "from torch.utils.data import Dataset\n",
        "from random import randrange\n",
        "\n",
        "# Dataset is there to be able to interact with DataLoader\n",
        "\n",
        "class MyDataset(Dataset):\n",
        "  def __init__(self, inpDataset, transform):\n",
        "    self.inpDataset = inpDataset\n",
        "    self.transform = transform\n",
        "\n",
        "  def __getitem__(self, index):\n",
        "    randomNumber = randrange(10)\n",
        "    sample_image, label = self.inpDataset[index]\n",
        "    if self.transform:\n",
        "        sample_image = self.transform(sample_image)\n",
        "\n",
        "    sample = (sample_image,F.one_hot(torch.tensor(randomNumber),num_classes=10), label,label+randomNumber)\n",
        "    return sample\n",
        "\n",
        "  def __len__(self):\n",
        "    return len(self.inpDataset)\n",
        "\n",
        "myData_train = MyDataset(mnist_train,transform) \n",
        "myData_test = MyDataset(mnist_test,transform) "
      ],
      "execution_count": 6,
      "outputs": []
    },
    {
      "cell_type": "code",
      "metadata": {
        "colab": {
          "base_uri": "https://localhost:8080/"
        },
        "id": "yrlc9naOvOYu",
        "outputId": "56f1fe58-1482-4c26-a1ac-aa955a6d13cf"
      },
      "source": [
        "image,randomNumber, label1, label2 = next(iter(myData_train))\n",
        "image.shape,randomNumber, label1, label2"
      ],
      "execution_count": 7,
      "outputs": [
        {
          "output_type": "execute_result",
          "data": {
            "text/plain": [
              "(torch.Size([1, 28, 28]), tensor([0, 0, 0, 1, 0, 0, 0, 0, 0, 0]), 5, 8)"
            ]
          },
          "metadata": {},
          "execution_count": 7
        }
      ]
    },
    {
      "cell_type": "markdown",
      "metadata": {
        "id": "PCjclJNWcXHj"
      },
      "source": [
        "## 6. Creating DataLoader"
      ]
    },
    {
      "cell_type": "code",
      "metadata": {
        "id": "I9KjAkdxyO3Z"
      },
      "source": [
        "use_cuda = torch.cuda.is_available()\n",
        "device = torch.device(\"cuda\") if use_cuda else torch.device(\"cpu\")\n",
        "\n",
        "train_kwargs = {'batch_size': 1000}\n",
        "test_kwargs = {'batch_size': 1000}\n",
        "if use_cuda:\n",
        "    cuda_kwargs = {'num_workers': 1,\n",
        "                    'pin_memory': True,\n",
        "                    'shuffle': True}\n",
        "    train_kwargs.update(cuda_kwargs)\n",
        "    test_kwargs.update(cuda_kwargs)\n",
        "\n",
        "train_loader = torch.utils.data.DataLoader(myData_train,**train_kwargs)\n",
        "test_loader = torch.utils.data.DataLoader(myData_test, **test_kwargs)\n",
        "\n",
        "# train_loader = torch.utils.data.DataLoader(mnist_train,**train_kwargs)\n",
        "# test_loader = torch.utils.data.DataLoader(mnist_test, **test_kwargs)"
      ],
      "execution_count": 8,
      "outputs": []
    },
    {
      "cell_type": "markdown",
      "metadata": {
        "id": "NNwPHpKncgIT"
      },
      "source": [
        "## 7. Defining Network"
      ]
    },
    {
      "cell_type": "code",
      "metadata": {
        "id": "3YrLFurHHd8t"
      },
      "source": [
        "class Net(nn.Module):\n",
        "    def __init__(self):\n",
        "        super(Net, self).__init__()\n",
        "        self.conv1 = nn.Conv2d(1, 32, 3, 1)\n",
        "        self.conv2 = nn.Conv2d(32, 64, 3, 1)\n",
        "        self.dropout1 = nn.Dropout(0.25)\n",
        "        self.dropout2 = nn.Dropout(0.5)\n",
        "        self.fc1 = nn.Linear(9226, 128)\n",
        "        self.fc2 = nn.Linear(128, 10)\n",
        "        self.fc3 = nn.Linear(128, 20)\n",
        "\n",
        "    def forward(self, x,y):\n",
        "        x = self.conv1(x)\n",
        "        x = F.relu(x)\n",
        "        x = self.conv2(x)\n",
        "        x = F.relu(x)\n",
        "        x = F.max_pool2d(x, 2)\n",
        "        x = self.dropout1(x)\n",
        "        x = torch.flatten(x, 1)\n",
        "        x = torch.cat((x, y), 1)\n",
        "        x = self.fc1(x)\n",
        "        x = F.relu(x)\n",
        "        x = self.dropout2(x)\n",
        "        x1 = self.fc2(x)\n",
        "        x2 = self.fc3(x)\n",
        "        output1 = F.log_softmax(x1, dim=1)\n",
        "        output2 = F.log_softmax(x2, dim=1)\n",
        "        return output1, output2"
      ],
      "execution_count": 9,
      "outputs": []
    },
    {
      "cell_type": "code",
      "metadata": {
        "id": "qSiegSqjzYyO"
      },
      "source": [
        "model = Net().to(device)"
      ],
      "execution_count": 10,
      "outputs": []
    },
    {
      "cell_type": "code",
      "metadata": {
        "colab": {
          "base_uri": "https://localhost:8080/"
        },
        "id": "BVUx3i6EaoKv",
        "outputId": "576e7519-58bb-470c-86ff-c84184cf7bce"
      },
      "source": [
        "model"
      ],
      "execution_count": 11,
      "outputs": [
        {
          "output_type": "execute_result",
          "data": {
            "text/plain": [
              "Net(\n",
              "  (conv1): Conv2d(1, 32, kernel_size=(3, 3), stride=(1, 1))\n",
              "  (conv2): Conv2d(32, 64, kernel_size=(3, 3), stride=(1, 1))\n",
              "  (dropout1): Dropout(p=0.25, inplace=False)\n",
              "  (dropout2): Dropout(p=0.5, inplace=False)\n",
              "  (fc1): Linear(in_features=9226, out_features=128, bias=True)\n",
              "  (fc2): Linear(in_features=128, out_features=10, bias=True)\n",
              "  (fc3): Linear(in_features=128, out_features=20, bias=True)\n",
              ")"
            ]
          },
          "metadata": {},
          "execution_count": 11
        }
      ]
    },
    {
      "cell_type": "markdown",
      "metadata": {
        "id": "kLKHyqhN675A"
      },
      "source": [
        "## 8. Training Network"
      ]
    },
    {
      "cell_type": "code",
      "metadata": {
        "id": "RrmujRB20QEx"
      },
      "source": [
        "def train(model, device, train_loader, optimizer, epoch):\n",
        "    model.train()\n",
        "    for batch_idx, (data,randomNumber,target,target1) in enumerate(train_loader):\n",
        "        data,randomNumber,target,target1 = data.to(device), randomNumber.to(device), target.to(device), target1.to(device)\n",
        "        optimizer.zero_grad()\n",
        "        output, output1 = model(data,randomNumber)\n",
        "        loss = F.nll_loss(output, target) + F.nll_loss(output1, target1)\n",
        "        loss.backward()\n",
        "        optimizer.step()\n",
        "        log_interval = 10\n",
        "        if batch_idx % log_interval == 0:\n",
        "            print('Train Epoch: {} [{}/{} ({:.0f}%)]\\tLoss: {:.6f}'.format(\n",
        "                epoch, batch_idx * len(data), len(train_loader.dataset),\n",
        "                100. * batch_idx / len(train_loader), loss.item()))\n",
        "\n",
        "\n",
        "def test(model, device, test_loader):\n",
        "    model.eval()\n",
        "    test_loss = 0\n",
        "    correct = 0\n",
        "    with torch.no_grad():\n",
        "        for data,randomNumber,target,target1 in test_loader:\n",
        "            data,randomNumber,target,target1 = data.to(device), randomNumber.to(device), target.to(device), target1.to(device)\n",
        "            output, output1 = model(data,randomNumber)\n",
        "            test_loss += F.nll_loss(output, target, reduction='sum').item() + F.nll_loss(output1, target1, reduction='sum').item()  # sum up batch loss\n",
        "            pred = output.argmax(dim=1, keepdim=True)  # get the index of the max log-probability\n",
        "            pred1 = output1.argmax(dim=1, keepdim=True)  # get the index of the max log-probability\n",
        "            correct += pred.eq(target.view_as(pred)).sum().item() + pred1.eq(target1.view_as(pred1)).sum().item()\n",
        "\n",
        "    test_loss /= len(test_loader.dataset)\n",
        "\n",
        "    print('\\nTest set: Average loss: {:.4f}, Accuracy: {}/{} ({:.0f}%)\\n'.format(\n",
        "        test_loss, correct, len(test_loader.dataset)*2,\n",
        "        100. * correct / len(test_loader.dataset)/2))"
      ],
      "execution_count": 12,
      "outputs": []
    },
    {
      "cell_type": "code",
      "metadata": {
        "colab": {
          "base_uri": "https://localhost:8080/"
        },
        "id": "QJW9Kyhkz_I2",
        "outputId": "8e003955-1134-49c5-b524-ee6f3d301148"
      },
      "source": [
        "optimizer = optim.Adam(model.parameters(), lr=0.01)\n",
        "epochs = 20\n",
        "for epoch in range(1, epochs + 1):\n",
        "    train(model, device, train_loader, optimizer, epoch)\n",
        "    test(model, device, test_loader)"
      ],
      "execution_count": 13,
      "outputs": [
        {
          "output_type": "stream",
          "name": "stderr",
          "text": [
            "/usr/local/lib/python3.7/dist-packages/torch/nn/functional.py:718: UserWarning: Named tensors and all their associated APIs are an experimental feature and subject to change. Please do not use them for anything important until they are released as stable. (Triggered internally at  /pytorch/c10/core/TensorImpl.h:1156.)\n",
            "  return torch.max_pool2d(input, kernel_size, stride, padding, dilation, ceil_mode)\n"
          ]
        },
        {
          "output_type": "stream",
          "name": "stdout",
          "text": [
            "Train Epoch: 1 [0/60000 (0%)]\tLoss: 5.304567\n",
            "Train Epoch: 1 [10000/60000 (17%)]\tLoss: 4.316573\n",
            "Train Epoch: 1 [20000/60000 (33%)]\tLoss: 3.657577\n",
            "Train Epoch: 1 [30000/60000 (50%)]\tLoss: 3.298790\n",
            "Train Epoch: 1 [40000/60000 (67%)]\tLoss: 3.078950\n",
            "Train Epoch: 1 [50000/60000 (83%)]\tLoss: 2.912387\n",
            "\n",
            "Test set: Average loss: 2.3887, Accuracy: 12621/20000 (63%)\n",
            "\n",
            "Train Epoch: 2 [0/60000 (0%)]\tLoss: 2.780348\n",
            "Train Epoch: 2 [10000/60000 (17%)]\tLoss: 2.698769\n",
            "Train Epoch: 2 [20000/60000 (33%)]\tLoss: 2.525199\n",
            "Train Epoch: 2 [30000/60000 (50%)]\tLoss: 2.443818\n",
            "Train Epoch: 2 [40000/60000 (67%)]\tLoss: 2.344484\n",
            "Train Epoch: 2 [50000/60000 (83%)]\tLoss: 2.312454\n",
            "\n",
            "Test set: Average loss: 1.6673, Accuracy: 15668/20000 (78%)\n",
            "\n",
            "Train Epoch: 3 [0/60000 (0%)]\tLoss: 2.182006\n",
            "Train Epoch: 3 [10000/60000 (17%)]\tLoss: 2.113608\n",
            "Train Epoch: 3 [20000/60000 (33%)]\tLoss: 2.075756\n",
            "Train Epoch: 3 [30000/60000 (50%)]\tLoss: 1.924628\n",
            "Train Epoch: 3 [40000/60000 (67%)]\tLoss: 1.806076\n",
            "Train Epoch: 3 [50000/60000 (83%)]\tLoss: 1.771372\n",
            "\n",
            "Test set: Average loss: 1.0559, Accuracy: 17946/20000 (90%)\n",
            "\n",
            "Train Epoch: 4 [0/60000 (0%)]\tLoss: 1.691391\n",
            "Train Epoch: 4 [10000/60000 (17%)]\tLoss: 1.742260\n",
            "Train Epoch: 4 [20000/60000 (33%)]\tLoss: 1.562180\n",
            "Train Epoch: 4 [30000/60000 (50%)]\tLoss: 1.554228\n",
            "Train Epoch: 4 [40000/60000 (67%)]\tLoss: 1.557044\n",
            "Train Epoch: 4 [50000/60000 (83%)]\tLoss: 1.545424\n",
            "\n",
            "Test set: Average loss: 0.7276, Accuracy: 18470/20000 (92%)\n",
            "\n",
            "Train Epoch: 5 [0/60000 (0%)]\tLoss: 1.463885\n",
            "Train Epoch: 5 [10000/60000 (17%)]\tLoss: 1.499609\n",
            "Train Epoch: 5 [20000/60000 (33%)]\tLoss: 1.434057\n",
            "Train Epoch: 5 [30000/60000 (50%)]\tLoss: 1.327317\n",
            "Train Epoch: 5 [40000/60000 (67%)]\tLoss: 1.302581\n",
            "Train Epoch: 5 [50000/60000 (83%)]\tLoss: 1.277950\n",
            "\n",
            "Test set: Average loss: 0.6056, Accuracy: 18584/20000 (93%)\n",
            "\n",
            "Train Epoch: 6 [0/60000 (0%)]\tLoss: 1.160473\n",
            "Train Epoch: 6 [10000/60000 (17%)]\tLoss: 1.289955\n",
            "Train Epoch: 6 [20000/60000 (33%)]\tLoss: 1.162346\n",
            "Train Epoch: 6 [30000/60000 (50%)]\tLoss: 1.223401\n",
            "Train Epoch: 6 [40000/60000 (67%)]\tLoss: 1.089061\n",
            "Train Epoch: 6 [50000/60000 (83%)]\tLoss: 1.145563\n",
            "\n",
            "Test set: Average loss: 0.7498, Accuracy: 18470/20000 (92%)\n",
            "\n",
            "Train Epoch: 7 [0/60000 (0%)]\tLoss: 1.441113\n",
            "Train Epoch: 7 [10000/60000 (17%)]\tLoss: 1.319085\n",
            "Train Epoch: 7 [20000/60000 (33%)]\tLoss: 1.093408\n",
            "Train Epoch: 7 [30000/60000 (50%)]\tLoss: 1.197130\n",
            "Train Epoch: 7 [40000/60000 (67%)]\tLoss: 1.262516\n",
            "Train Epoch: 7 [50000/60000 (83%)]\tLoss: 1.129449\n",
            "\n",
            "Test set: Average loss: 0.4877, Accuracy: 18756/20000 (94%)\n",
            "\n",
            "Train Epoch: 8 [0/60000 (0%)]\tLoss: 1.083134\n",
            "Train Epoch: 8 [10000/60000 (17%)]\tLoss: 1.356733\n",
            "Train Epoch: 8 [20000/60000 (33%)]\tLoss: 1.200103\n",
            "Train Epoch: 8 [30000/60000 (50%)]\tLoss: 1.213164\n",
            "Train Epoch: 8 [40000/60000 (67%)]\tLoss: 1.198647\n",
            "Train Epoch: 8 [50000/60000 (83%)]\tLoss: 1.186524\n",
            "\n",
            "Test set: Average loss: 0.4828, Accuracy: 18719/20000 (94%)\n",
            "\n",
            "Train Epoch: 9 [0/60000 (0%)]\tLoss: 1.025966\n",
            "Train Epoch: 9 [10000/60000 (17%)]\tLoss: 1.070475\n",
            "Train Epoch: 9 [20000/60000 (33%)]\tLoss: 1.114152\n",
            "Train Epoch: 9 [30000/60000 (50%)]\tLoss: 1.080745\n",
            "Train Epoch: 9 [40000/60000 (67%)]\tLoss: 1.116137\n",
            "Train Epoch: 9 [50000/60000 (83%)]\tLoss: 1.112446\n",
            "\n",
            "Test set: Average loss: 0.4527, Accuracy: 18747/20000 (94%)\n",
            "\n",
            "Train Epoch: 10 [0/60000 (0%)]\tLoss: 0.948507\n",
            "Train Epoch: 10 [10000/60000 (17%)]\tLoss: 0.929174\n",
            "Train Epoch: 10 [20000/60000 (33%)]\tLoss: 1.026209\n",
            "Train Epoch: 10 [30000/60000 (50%)]\tLoss: 0.938408\n",
            "Train Epoch: 10 [40000/60000 (67%)]\tLoss: 0.917636\n",
            "Train Epoch: 10 [50000/60000 (83%)]\tLoss: 1.391335\n",
            "\n",
            "Test set: Average loss: 0.6212, Accuracy: 18283/20000 (91%)\n",
            "\n",
            "Train Epoch: 11 [0/60000 (0%)]\tLoss: 1.299694\n",
            "Train Epoch: 11 [10000/60000 (17%)]\tLoss: 1.337248\n",
            "Train Epoch: 11 [20000/60000 (33%)]\tLoss: 1.097025\n",
            "Train Epoch: 11 [30000/60000 (50%)]\tLoss: 1.146761\n",
            "Train Epoch: 11 [40000/60000 (67%)]\tLoss: 1.022389\n",
            "Train Epoch: 11 [50000/60000 (83%)]\tLoss: 1.194785\n",
            "\n",
            "Test set: Average loss: 0.4872, Accuracy: 18664/20000 (93%)\n",
            "\n",
            "Train Epoch: 12 [0/60000 (0%)]\tLoss: 1.072978\n",
            "Train Epoch: 12 [10000/60000 (17%)]\tLoss: 1.090228\n",
            "Train Epoch: 12 [20000/60000 (33%)]\tLoss: 1.048382\n",
            "Train Epoch: 12 [30000/60000 (50%)]\tLoss: 1.095522\n",
            "Train Epoch: 12 [40000/60000 (67%)]\tLoss: 1.114343\n",
            "Train Epoch: 12 [50000/60000 (83%)]\tLoss: 0.909944\n",
            "\n",
            "Test set: Average loss: 0.4481, Accuracy: 18763/20000 (94%)\n",
            "\n",
            "Train Epoch: 13 [0/60000 (0%)]\tLoss: 1.007714\n",
            "Train Epoch: 13 [10000/60000 (17%)]\tLoss: 1.002995\n",
            "Train Epoch: 13 [20000/60000 (33%)]\tLoss: 1.019141\n",
            "Train Epoch: 13 [30000/60000 (50%)]\tLoss: 1.074267\n",
            "Train Epoch: 13 [40000/60000 (67%)]\tLoss: 0.933699\n",
            "Train Epoch: 13 [50000/60000 (83%)]\tLoss: 0.951214\n",
            "\n",
            "Test set: Average loss: 0.4134, Accuracy: 18856/20000 (94%)\n",
            "\n",
            "Train Epoch: 14 [0/60000 (0%)]\tLoss: 1.037365\n",
            "Train Epoch: 14 [10000/60000 (17%)]\tLoss: 0.988952\n",
            "Train Epoch: 14 [20000/60000 (33%)]\tLoss: 1.080812\n",
            "Train Epoch: 14 [30000/60000 (50%)]\tLoss: 0.953994\n",
            "Train Epoch: 14 [40000/60000 (67%)]\tLoss: 0.983374\n",
            "Train Epoch: 14 [50000/60000 (83%)]\tLoss: 0.953477\n",
            "\n",
            "Test set: Average loss: 0.4157, Accuracy: 18779/20000 (94%)\n",
            "\n",
            "Train Epoch: 15 [0/60000 (0%)]\tLoss: 0.987024\n",
            "Train Epoch: 15 [10000/60000 (17%)]\tLoss: 0.933039\n",
            "Train Epoch: 15 [20000/60000 (33%)]\tLoss: 0.942034\n",
            "Train Epoch: 15 [30000/60000 (50%)]\tLoss: 0.985139\n",
            "Train Epoch: 15 [40000/60000 (67%)]\tLoss: 0.938960\n",
            "Train Epoch: 15 [50000/60000 (83%)]\tLoss: 0.961318\n",
            "\n",
            "Test set: Average loss: 0.3891, Accuracy: 18900/20000 (94%)\n",
            "\n",
            "Train Epoch: 16 [0/60000 (0%)]\tLoss: 0.862608\n",
            "Train Epoch: 16 [10000/60000 (17%)]\tLoss: 0.930944\n",
            "Train Epoch: 16 [20000/60000 (33%)]\tLoss: 0.910399\n",
            "Train Epoch: 16 [30000/60000 (50%)]\tLoss: 0.963955\n",
            "Train Epoch: 16 [40000/60000 (67%)]\tLoss: 0.829117\n",
            "Train Epoch: 16 [50000/60000 (83%)]\tLoss: 0.950577\n",
            "\n",
            "Test set: Average loss: 0.3883, Accuracy: 18894/20000 (94%)\n",
            "\n",
            "Train Epoch: 17 [0/60000 (0%)]\tLoss: 0.875625\n",
            "Train Epoch: 17 [10000/60000 (17%)]\tLoss: 0.896760\n",
            "Train Epoch: 17 [20000/60000 (33%)]\tLoss: 0.973709\n",
            "Train Epoch: 17 [30000/60000 (50%)]\tLoss: 0.850049\n",
            "Train Epoch: 17 [40000/60000 (67%)]\tLoss: 0.864675\n",
            "Train Epoch: 17 [50000/60000 (83%)]\tLoss: 0.967345\n",
            "\n",
            "Test set: Average loss: 0.3646, Accuracy: 18945/20000 (95%)\n",
            "\n",
            "Train Epoch: 18 [0/60000 (0%)]\tLoss: 0.925206\n",
            "Train Epoch: 18 [10000/60000 (17%)]\tLoss: 0.794384\n",
            "Train Epoch: 18 [20000/60000 (33%)]\tLoss: 0.880131\n",
            "Train Epoch: 18 [30000/60000 (50%)]\tLoss: 0.841501\n",
            "Train Epoch: 18 [40000/60000 (67%)]\tLoss: 0.909665\n",
            "Train Epoch: 18 [50000/60000 (83%)]\tLoss: 0.950291\n",
            "\n",
            "Test set: Average loss: 0.3622, Accuracy: 18945/20000 (95%)\n",
            "\n",
            "Train Epoch: 19 [0/60000 (0%)]\tLoss: 0.815122\n",
            "Train Epoch: 19 [10000/60000 (17%)]\tLoss: 1.600613\n",
            "Train Epoch: 19 [20000/60000 (33%)]\tLoss: 1.360738\n",
            "Train Epoch: 19 [30000/60000 (50%)]\tLoss: 1.295643\n",
            "Train Epoch: 19 [40000/60000 (67%)]\tLoss: 1.262459\n",
            "Train Epoch: 19 [50000/60000 (83%)]\tLoss: 1.132005\n",
            "\n",
            "Test set: Average loss: 0.5044, Accuracy: 18500/20000 (92%)\n",
            "\n",
            "Train Epoch: 20 [0/60000 (0%)]\tLoss: 1.219307\n",
            "Train Epoch: 20 [10000/60000 (17%)]\tLoss: 1.097315\n",
            "Train Epoch: 20 [20000/60000 (33%)]\tLoss: 1.293939\n",
            "Train Epoch: 20 [30000/60000 (50%)]\tLoss: 1.075557\n",
            "Train Epoch: 20 [40000/60000 (67%)]\tLoss: 1.117925\n",
            "Train Epoch: 20 [50000/60000 (83%)]\tLoss: 1.056636\n",
            "\n",
            "Test set: Average loss: 0.4689, Accuracy: 18615/20000 (93%)\n",
            "\n"
          ]
        }
      ]
    },
    {
      "cell_type": "code",
      "metadata": {
        "id": "7k_qYE4IaoDW"
      },
      "source": [
        ""
      ],
      "execution_count": 13,
      "outputs": []
    }
  ]
}