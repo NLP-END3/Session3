{
  "nbformat": 4,
  "nbformat_minor": 0,
  "metadata": {
    "colab": {
      "name": "Session3_Pytorch101_ver2.ipynb",
      "provenance": [],
      "toc_visible": true,
      "include_colab_link": true
    },
    "kernelspec": {
      "name": "python3",
      "display_name": "Python 3"
    },
    "language_info": {
      "name": "python"
    },
    "accelerator": "GPU"
  },
  "cells": [
    {
      "cell_type": "markdown",
      "metadata": {
        "id": "view-in-github",
        "colab_type": "text"
      },
      "source": [
        "<a href=\"https://colab.research.google.com/github/NLP-END3/Session3/blob/main/Session3_Pytorch101_ver4_2Methods.ipynb\" target=\"_parent\"><img src=\"https://colab.research.google.com/assets/colab-badge.svg\" alt=\"Open In Colab\"/></a>"
      ]
    },
    {
      "cell_type": "markdown",
      "metadata": {
        "id": "4bxydVRloBpO"
      },
      "source": [
        "## 1. Problem Statement\n",
        "\n",
        "Write a neural network that can:\n",
        "\n",
        "1. take 2 inputs:\n",
        "    - an image from the MNIST dataset (say 5), and\n",
        "    - a random number between 0 and 9, (say 7)\n",
        "2. and gives two outputs:\n",
        "    - the \"number\" that was represented by the MNIST image (predict 5), and\n",
        "    - the \"sum\" of this number with the random number and the input image to the network (predict 5 + 7 = 12)\n",
        "3. you can mix fully connected layers and convolution layers\n",
        "4. you can use one-hot encoding to represent the random number input as well as the \"summed\" output.  \n",
        "    a. Random number (7) can be represented as 0 0 0 0 0 0 0 1 0 0  \n",
        "    b. Sum (13) can be represented as: 1. 0 0 0 0 0 0 0 0 0 0 0 0 0 1 0 0 0 0 0  \n",
        "    c. 0b1101 (remember that 4 digits in binary can at max represent 15, so we may need to go for 5 digits. i.e. 10010  "
      ]
    },
    {
      "cell_type": "markdown",
      "metadata": {
        "id": "pCYKM8CvKPwH"
      },
      "source": [
        "## 2. Importing required libraries & Checking GPU\n"
      ]
    },
    {
      "cell_type": "code",
      "metadata": {
        "id": "nEdgomGU6sBv",
        "colab": {
          "base_uri": "https://localhost:8080/"
        },
        "outputId": "5cf9e704-483a-4596-9f12-5e55eac3e2f1"
      },
      "source": [
        "import argparse\n",
        "import torch\n",
        "import torch.nn as nn\n",
        "import torch.optim as optim\n",
        "import torchvision\n",
        "import torch.nn.functional as F\n",
        "from torchvision import datasets, transforms\n",
        "from torch.autograd import Variable\n",
        "import matplotlib.pyplot as plt\n",
        "from torch.optim.lr_scheduler import StepLR\n",
        "\n",
        "print(torch.cuda.is_available())  # Checks if GPU is available\n",
        "print(torch.cuda.get_device_name(0)) # Name of GPU\n",
        "print(torch.cuda.device_count())"
      ],
      "execution_count": 1,
      "outputs": [
        {
          "output_type": "stream",
          "name": "stdout",
          "text": [
            "True\n",
            "Tesla K80\n",
            "1\n"
          ]
        }
      ]
    },
    {
      "cell_type": "markdown",
      "metadata": {
        "id": "gGpC3QGI7NJU"
      },
      "source": [
        "## 3. Importing MNIST dataset from pytorch"
      ]
    },
    {
      "cell_type": "code",
      "metadata": {
        "id": "_l4RLz-c7MOm",
        "colab": {
          "base_uri": "https://localhost:8080/"
        },
        "outputId": "95fd76d1-a086-4e55-c79a-c0a11fe67135"
      },
      "source": [
        "transform=transforms.Compose([\n",
        "        transforms.ToTensor(),\n",
        "        transforms.Normalize((0.1307,), (0.3081,))\n",
        "        ])\n",
        "\n",
        "mnist_train = datasets.MNIST('../data',train=True,download=True) # Train dataset\n",
        "mnist_test = datasets.MNIST('./data',train=False,download=True) # Test dataset"
      ],
      "execution_count": 2,
      "outputs": [
        {
          "output_type": "stream",
          "name": "stderr",
          "text": [
            "/usr/local/lib/python3.7/dist-packages/torchvision/datasets/mnist.py:498: UserWarning: The given NumPy array is not writeable, and PyTorch does not support non-writeable tensors. This means you can write to the underlying (supposedly non-writeable) NumPy array using the tensor. You may want to copy the array to protect its data or make it writeable before converting it to a tensor. This type of warning will be suppressed for the rest of this program. (Triggered internally at  /pytorch/torch/csrc/utils/tensor_numpy.cpp:180.)\n",
            "  return torch.from_numpy(parsed.astype(m[2], copy=False)).view(*s)\n"
          ]
        }
      ]
    },
    {
      "cell_type": "markdown",
      "metadata": {
        "id": "GjmKTyJOLrAv"
      },
      "source": [
        "## 3. Plotting few samples of the downloaded data"
      ]
    },
    {
      "cell_type": "code",
      "metadata": {
        "colab": {
          "base_uri": "https://localhost:8080/",
          "height": 585
        },
        "id": "a3AX1A3jLqV8",
        "outputId": "cbeb0692-6c10-4c07-a668-3be5b98f7f2a"
      },
      "source": [
        "figure = plt.figure(figsize=(8, 8))\n",
        "cols, rows = 10, 10\n",
        "for i in range(1, cols * rows + 1):\n",
        "    sample_idx = torch.randint(len(mnist_train), size=(1,)).item()\n",
        "    img, label = mnist_train[sample_idx]\n",
        "    figure.add_subplot(rows, cols, i)\n",
        "    plt.title(label)\n",
        "    plt.axis(\"off\")\n",
        "    plt.imshow(img, cmap=\"gray\")\n",
        "figure.tight_layout()\n",
        "plt.show()"
      ],
      "execution_count": 3,
      "outputs": [
        {
          "output_type": "display_data",
          "data": {
            "image/png": "[encoded data removed]",
            "text/plain": [
              "<Figure size 576x576 with 100 Axes>"
            ]
          },
          "metadata": {
            "needs_background": "light"
          }
        }
      ]
    },
    {
      "cell_type": "code",
      "metadata": {
        "id": "IhFULDhUmDqT"
      },
      "source": [
        "#dir(mnist_train)"
      ],
      "execution_count": 4,
      "outputs": []
    },
    {
      "cell_type": "markdown",
      "metadata": {
        "id": "_KWhT4kdbOmn"
      },
      "source": [
        "## 4. Checking the size of the image, label and image information"
      ]
    },
    {
      "cell_type": "code",
      "metadata": {
        "colab": {
          "base_uri": "https://localhost:8080/"
        },
        "id": "cvo-DfNHJbAb",
        "outputId": "9216b212-7b21-45d7-a94b-7dd2cc67f9b8"
      },
      "source": [
        "print(f'Number of examples in training dataset :{len(mnist_train)}')\n",
        "print(f'Shape of the training dataset - images : {mnist_train.data.shape}')\n",
        "print(f'Labels in the training dataset : {mnist_train.targets}')"
      ],
      "execution_count": 5,
      "outputs": [
        {
          "output_type": "stream",
          "name": "stdout",
          "text": [
            "Number of examples in training dataset :60000\n",
            "Shape of the training dataset - images : torch.Size([60000, 28, 28])\n",
            "Labels in the training dataset : tensor([5, 0, 4,  ..., 5, 6, 8])\n"
          ]
        }
      ]
    },
    {
      "cell_type": "markdown",
      "metadata": {
        "id": "uVcFMhjNl9NF"
      },
      "source": [
        "# User Input: User can choose any one of the methods defined below\n",
        "## 1. method = 'conv_plus_fc'\n",
        "## 2. method = 'fc' "
      ]
    },
    {
      "cell_type": "code",
      "metadata": {
        "id": "qs3GsAXul8zc"
      },
      "source": [
        "method = 'fc' #'fc' #"
      ],
      "execution_count": 6,
      "outputs": []
    },
    {
      "cell_type": "markdown",
      "metadata": {
        "id": "bWOllBGyqG51"
      },
      "source": [
        "## 5. Defining Custom Dataset Class"
      ]
    },
    {
      "cell_type": "code",
      "metadata": {
        "id": "BIYJtv69qGmG"
      },
      "source": [
        "from torch.utils.data import Dataset\n",
        "from random import randrange\n",
        "\n",
        "# Dataset is there to be able to interact with DataLoader\n",
        "\n",
        "class MyDataset(Dataset):\n",
        "  def __init__(self, inpDataset, transform):\n",
        "    self.inpDataset = inpDataset\n",
        "    self.transform = transform\n",
        "\n",
        "  def __getitem__(self, index):\n",
        "    randomNumber = randrange(10)\n",
        "    sample_image, label = self.inpDataset[index]\n",
        "    if self.transform:\n",
        "        sample_image = self.transform(sample_image)\n",
        "\n",
        "    sample = (sample_image,F.one_hot(torch.tensor(randomNumber),num_classes=10), label,label+randomNumber)\n",
        "    return sample\n",
        "\n",
        "  def __len__(self):\n",
        "    return len(self.inpDataset)\n",
        "\n",
        "myData_train = MyDataset(mnist_train,transform) \n",
        "myData_test = MyDataset(mnist_test,transform)"
      ],
      "execution_count": 7,
      "outputs": []
    },
    {
      "cell_type": "code",
      "metadata": {
        "colab": {
          "base_uri": "https://localhost:8080/"
        },
        "id": "yrlc9naOvOYu",
        "outputId": "da9d2de4-22f0-4c38-9bf0-74e44e6b1d28"
      },
      "source": [
        "image,randomNumber, label1, label2 = next(iter(myData_train))\n",
        "image.shape,randomNumber, label1, label2"
      ],
      "execution_count": 8,
      "outputs": [
        {
          "output_type": "execute_result",
          "data": {
            "text/plain": [
              "(torch.Size([1, 28, 28]), tensor([0, 0, 0, 0, 0, 1, 0, 0, 0, 0]), 5, 10)"
            ]
          },
          "metadata": {},
          "execution_count": 8
        }
      ]
    },
    {
      "cell_type": "markdown",
      "metadata": {
        "id": "PCjclJNWcXHj"
      },
      "source": [
        "## 6. Creating DataLoader"
      ]
    },
    {
      "cell_type": "code",
      "metadata": {
        "id": "I9KjAkdxyO3Z"
      },
      "source": [
        "use_cuda = torch.cuda.is_available()\n",
        "device = torch.device(\"cuda\") if use_cuda else torch.device(\"cpu\")\n",
        "\n",
        "train_kwargs = {'batch_size': 1000}\n",
        "test_kwargs = {'batch_size': 1000}\n",
        "if use_cuda:\n",
        "    cuda_kwargs = {'num_workers': 1,\n",
        "                    'pin_memory': True,\n",
        "                    'shuffle': True}\n",
        "    train_kwargs.update(cuda_kwargs)\n",
        "    test_kwargs.update(cuda_kwargs)\n",
        "\n",
        "train_loader = torch.utils.data.DataLoader(myData_train,**train_kwargs)\n",
        "test_loader = torch.utils.data.DataLoader(myData_test, **test_kwargs)\n",
        "\n",
        "# train_loader = torch.utils.data.DataLoader(mnist_train,**train_kwargs)\n",
        "# test_loader = torch.utils.data.DataLoader(mnist_test, **test_kwargs)"
      ],
      "execution_count": 9,
      "outputs": []
    },
    {
      "cell_type": "code",
      "metadata": {
        "colab": {
          "base_uri": "https://localhost:8080/"
        },
        "id": "CwZ9y5rCp557",
        "outputId": "23e6c455-d321-4556-8291-7b8559381df1"
      },
      "source": [
        "for batch_idx, (data,randomNumber,target,target1) in enumerate(train_loader):\n",
        "  print(f'data shape : {data.shape}')\n",
        "  print(f'random number : {randomNumber.shape}')\n",
        "  print(f'target : {target.shape}')\n",
        "  print(f'target1 : {target1.shape}')\n",
        "  break"
      ],
      "execution_count": 10,
      "outputs": [
        {
          "output_type": "stream",
          "name": "stdout",
          "text": [
            "data shape : torch.Size([1000, 1, 28, 28])\n",
            "random number : torch.Size([1000, 10])\n",
            "target : torch.Size([1000])\n",
            "target1 : torch.Size([1000])\n"
          ]
        }
      ]
    },
    {
      "cell_type": "markdown",
      "metadata": {
        "id": "NNwPHpKncgIT"
      },
      "source": [
        "## 7. Defining Network : Method1 - Conv + FC Netwotk"
      ]
    },
    {
      "cell_type": "code",
      "metadata": {
        "id": "3YrLFurHHd8t"
      },
      "source": [
        "class Net1(nn.Module):\n",
        "    def __init__(self):\n",
        "        super(Net1, self).__init__()\n",
        "        self.conv1 = nn.Conv2d(1, 32, 3, 1)\n",
        "        self.conv2 = nn.Conv2d(32, 64, 3, 1)\n",
        "        self.dropout1 = nn.Dropout(0.25)\n",
        "        self.dropout2 = nn.Dropout(0.5)\n",
        "        self.fc1 = nn.Linear(9226, 128)\n",
        "        self.fc2 = nn.Linear(128, 10)\n",
        "        self.fc3 = nn.Linear(128, 19)\n",
        "\n",
        "    def forward(self, x,y):\n",
        "        x = self.conv1(x)\n",
        "        x = F.relu(x)\n",
        "        x = self.conv2(x)\n",
        "        x = F.relu(x)\n",
        "        x = F.max_pool2d(x, 2)\n",
        "        x = self.dropout1(x)\n",
        "        x = torch.flatten(x, 1)\n",
        "        x = torch.cat((x, y), 1)\n",
        "        x = self.fc1(x)\n",
        "        x = F.relu(x)\n",
        "        x = self.dropout2(x)\n",
        "        x1 = self.fc2(x)\n",
        "        x2 = self.fc3(x)\n",
        "        output1 = F.log_softmax(x1, dim=1)\n",
        "        output2 = F.log_softmax(x2, dim=1)\n",
        "        return output1, output2"
      ],
      "execution_count": 11,
      "outputs": []
    },
    {
      "cell_type": "code",
      "metadata": {
        "id": "qSiegSqjzYyO"
      },
      "source": [
        "model1 = Net1().to(device)"
      ],
      "execution_count": 12,
      "outputs": []
    },
    {
      "cell_type": "code",
      "metadata": {
        "colab": {
          "base_uri": "https://localhost:8080/"
        },
        "id": "BVUx3i6EaoKv",
        "outputId": "b4a34f2d-70ba-4363-af10-d5371f1a85d9"
      },
      "source": [
        "model1"
      ],
      "execution_count": 13,
      "outputs": [
        {
          "output_type": "execute_result",
          "data": {
            "text/plain": [
              "Net1(\n",
              "  (conv1): Conv2d(1, 32, kernel_size=(3, 3), stride=(1, 1))\n",
              "  (conv2): Conv2d(32, 64, kernel_size=(3, 3), stride=(1, 1))\n",
              "  (dropout1): Dropout(p=0.25, inplace=False)\n",
              "  (dropout2): Dropout(p=0.5, inplace=False)\n",
              "  (fc1): Linear(in_features=9226, out_features=128, bias=True)\n",
              "  (fc2): Linear(in_features=128, out_features=10, bias=True)\n",
              "  (fc3): Linear(in_features=128, out_features=19, bias=True)\n",
              ")"
            ]
          },
          "metadata": {},
          "execution_count": 13
        }
      ]
    },
    {
      "cell_type": "markdown",
      "metadata": {
        "id": "buvVXXhUeVDy"
      },
      "source": [
        "# Defining Network: Method2 - Completely Fully Connected Network"
      ]
    },
    {
      "cell_type": "code",
      "metadata": {
        "id": "IxNSaJYleUSX"
      },
      "source": [
        "class Net2(nn.Module):\n",
        "    def __init__(self):\n",
        "        super(Net2,self).__init__()\n",
        "        self.fc1 = nn.Linear(794, 512)\n",
        "        self.fc2 = nn.Linear(512, 256)\n",
        "        self.fc3 = nn.Linear(256,128)\n",
        "        self.dropout1 = nn.Dropout(0.25)\n",
        "        self.out1 = nn.Linear(128,10)\n",
        "        self.out2 = nn.Linear(128,19)\n",
        "\n",
        "    def forward(self, x, y):\n",
        "        x = torch.flatten(x, 1)\n",
        "        x = torch.cat((x, y), 1)\n",
        "        x = self.fc1(x)\n",
        "        x = F.relu(x)\n",
        "        x = self.fc2(x)\n",
        "        x = F.relu(x)\n",
        "        x = self.fc3(x)\n",
        "        x = F.relu(x)\n",
        "        x = self.dropout1(x)\n",
        "        x1 = self.out1(x)\n",
        "        x2 = self.out2(x)\n",
        "        output1 = F.log_softmax(x1, dim=1)\n",
        "        output2 = F.log_softmax(x2, dim=1)\n",
        "        return output1,output2"
      ],
      "execution_count": 14,
      "outputs": []
    },
    {
      "cell_type": "code",
      "metadata": {
        "id": "xDZZeHkalqYM"
      },
      "source": [
        "model2 = Net2().to(device)"
      ],
      "execution_count": 15,
      "outputs": []
    },
    {
      "cell_type": "code",
      "metadata": {
        "colab": {
          "base_uri": "https://localhost:8080/"
        },
        "id": "gyCqYJoblqJC",
        "outputId": "1ba436f8-fdc2-4771-bff7-90672989646f"
      },
      "source": [
        "model2"
      ],
      "execution_count": 16,
      "outputs": [
        {
          "output_type": "execute_result",
          "data": {
            "text/plain": [
              "Net2(\n",
              "  (fc1): Linear(in_features=794, out_features=512, bias=True)\n",
              "  (fc2): Linear(in_features=512, out_features=256, bias=True)\n",
              "  (fc3): Linear(in_features=256, out_features=128, bias=True)\n",
              "  (dropout1): Dropout(p=0.25, inplace=False)\n",
              "  (out1): Linear(in_features=128, out_features=10, bias=True)\n",
              "  (out2): Linear(in_features=128, out_features=19, bias=True)\n",
              ")"
            ]
          },
          "metadata": {},
          "execution_count": 16
        }
      ]
    },
    {
      "cell_type": "markdown",
      "metadata": {
        "id": "kLKHyqhN675A"
      },
      "source": [
        "## 8. Training Network"
      ]
    },
    {
      "cell_type": "code",
      "metadata": {
        "id": "RrmujRB20QEx",
        "outputId": "1a9920c8-6f50-4c4f-9446-59e74f074783",
        "colab": {
          "base_uri": "https://localhost:8080/"
        }
      },
      "source": [
        "###################### Chosing the model based on the method ############################## \n",
        "model = model1 if method == 'conv_plus_fc' else model2\n",
        "###########################################################################################  \n",
        "print(f'which model is used : {model}')\n",
        "\n",
        "def train(model, device, train_loader, optimizer, epoch):\n",
        "#   print(f'which model is used : {model}')\n",
        "  model.train()\n",
        "  for batch_idx, (data,randomNumber,target,target1) in enumerate(train_loader):\n",
        "      data,randomNumber,target,target1 = data.to(device), randomNumber.to(device), target.to(device), target1.to(device)\n",
        "      optimizer.zero_grad()\n",
        "    #   print(f'which model is used : {model}')\n",
        "      output, output1 = model(data,randomNumber)\n",
        "      loss = F.nll_loss(output, target) + F.nll_loss(output1, target1)  * 2\n",
        "      loss.backward()\n",
        "      optimizer.step()\n",
        "      log_interval = 100\n",
        "      if batch_idx % log_interval == 0:\n",
        "          print('Train Epoch: {} [{}/{} ({:.0f}%)]\\tLoss: {:.6f}'.format(\n",
        "              epoch, batch_idx * len(data), len(train_loader.dataset),\n",
        "              100. * batch_idx / len(train_loader), loss.item()))\n",
        "\n",
        "\n",
        "def test(model, device, test_loader):\n",
        "#   print(f'which model is used : {model}')\n",
        "  model.eval()\n",
        "  test_loss = 0\n",
        "  correct = 0\n",
        "  correct1 = 0\n",
        "  with torch.no_grad():\n",
        "      for data,randomNumber,target,target1 in test_loader:\n",
        "          data,randomNumber,target,target1 = data.to(device), randomNumber.to(device), target.to(device), target1.to(device)\n",
        "          output, output1 = model(data,randomNumber)\n",
        "          test_loss += F.nll_loss(output, target, reduction='sum').item() + F.nll_loss(output1, target1, reduction='sum').item()  * 2  # sum up batch loss\n",
        "          pred = output.argmax(dim=1, keepdim=True)  # get the index of the max log-probability\n",
        "          pred1 = output1.argmax(dim=1, keepdim=True)  # get the index of the max log-probability\n",
        "          correct += pred.eq(target.view_as(pred)).sum().item()\n",
        "          correct1 += pred1.eq(target1.view_as(pred1)).sum().item()\n",
        "\n",
        "  test_loss /= len(test_loader.dataset)\n",
        "\n",
        "  print('\\nTest set: Average loss: {:.4f}, Image Accuracy: {}/{} ({:.0f}%), Sum Accuracy: {}/{} ({:.0f}%)\\n'.format(\n",
        "      test_loss, correct, len(test_loader.dataset),\n",
        "      100. * correct / len(test_loader.dataset), correct1, len(test_loader.dataset),\n",
        "      100. * correct1 / len(test_loader.dataset)))"
      ],
      "execution_count": 17,
      "outputs": [
        {
          "output_type": "stream",
          "name": "stdout",
          "text": [
            "which model is used : Net2(\n",
            "  (fc1): Linear(in_features=794, out_features=512, bias=True)\n",
            "  (fc2): Linear(in_features=512, out_features=256, bias=True)\n",
            "  (fc3): Linear(in_features=256, out_features=128, bias=True)\n",
            "  (dropout1): Dropout(p=0.25, inplace=False)\n",
            "  (out1): Linear(in_features=128, out_features=10, bias=True)\n",
            "  (out2): Linear(in_features=128, out_features=19, bias=True)\n",
            ")\n"
          ]
        }
      ]
    },
    {
      "cell_type": "code",
      "metadata": {
        "colab": {
          "base_uri": "https://localhost:8080/"
        },
        "id": "QJW9Kyhkz_I2",
        "outputId": "563f7766-c47a-47ac-97a4-c24f4907cf2c"
      },
      "source": [
        "optimizer = optim.Adam(model.parameters(), lr=0.01)\n",
        "epochs = 20\n",
        "scheduler = StepLR(optimizer, step_size=1, gamma=0.7)\n",
        "for epoch in range(1, epochs + 1):\n",
        "    train(model, device, train_loader, optimizer, epoch)\n",
        "    test(model, device, test_loader)\n",
        "    scheduler.step()"
      ],
      "execution_count": 18,
      "outputs": [
        {
          "output_type": "stream",
          "name": "stdout",
          "text": [
            "Train Epoch: 1 [0/60000 (0%)]\tLoss: 8.203022\n",
            "\n",
            "Test set: Average loss: 4.9690, Image Accuracy: 9304/10000 (93%), Sum Accuracy: 1121/10000 (11%)\n",
            "\n",
            "Train Epoch: 2 [0/60000 (0%)]\tLoss: 4.993119\n",
            "\n",
            "Test set: Average loss: 4.1427, Image Accuracy: 9333/10000 (93%), Sum Accuracy: 2075/10000 (21%)\n",
            "\n",
            "Train Epoch: 3 [0/60000 (0%)]\tLoss: 4.216002\n",
            "\n",
            "Test set: Average loss: 3.2526, Image Accuracy: 9477/10000 (95%), Sum Accuracy: 3617/10000 (36%)\n",
            "\n",
            "Train Epoch: 4 [0/60000 (0%)]\tLoss: 3.353900\n",
            "\n",
            "Test set: Average loss: 2.5895, Image Accuracy: 9531/10000 (95%), Sum Accuracy: 5470/10000 (55%)\n",
            "\n",
            "Train Epoch: 5 [0/60000 (0%)]\tLoss: 2.674034\n",
            "\n",
            "Test set: Average loss: 2.3160, Image Accuracy: 9565/10000 (96%), Sum Accuracy: 6377/10000 (64%)\n",
            "\n",
            "Train Epoch: 6 [0/60000 (0%)]\tLoss: 2.489519\n",
            "\n",
            "Test set: Average loss: 2.0995, Image Accuracy: 9588/10000 (96%), Sum Accuracy: 7042/10000 (70%)\n",
            "\n",
            "Train Epoch: 7 [0/60000 (0%)]\tLoss: 2.214310\n",
            "\n",
            "Test set: Average loss: 1.9334, Image Accuracy: 9591/10000 (96%), Sum Accuracy: 7726/10000 (77%)\n",
            "\n",
            "Train Epoch: 8 [0/60000 (0%)]\tLoss: 2.080050\n",
            "\n",
            "Test set: Average loss: 1.8388, Image Accuracy: 9596/10000 (96%), Sum Accuracy: 7867/10000 (79%)\n",
            "\n",
            "Train Epoch: 9 [0/60000 (0%)]\tLoss: 2.034920\n",
            "\n",
            "Test set: Average loss: 1.7756, Image Accuracy: 9607/10000 (96%), Sum Accuracy: 8059/10000 (81%)\n",
            "\n",
            "Train Epoch: 10 [0/60000 (0%)]\tLoss: 1.911604\n",
            "\n",
            "Test set: Average loss: 1.7382, Image Accuracy: 9610/10000 (96%), Sum Accuracy: 8138/10000 (81%)\n",
            "\n",
            "Train Epoch: 11 [0/60000 (0%)]\tLoss: 1.921558\n",
            "\n",
            "Test set: Average loss: 1.7137, Image Accuracy: 9607/10000 (96%), Sum Accuracy: 8298/10000 (83%)\n",
            "\n",
            "Train Epoch: 12 [0/60000 (0%)]\tLoss: 1.627111\n",
            "\n",
            "Test set: Average loss: 1.6935, Image Accuracy: 9607/10000 (96%), Sum Accuracy: 8283/10000 (83%)\n",
            "\n",
            "Train Epoch: 13 [0/60000 (0%)]\tLoss: 1.677164\n",
            "\n",
            "Test set: Average loss: 1.6867, Image Accuracy: 9602/10000 (96%), Sum Accuracy: 8310/10000 (83%)\n",
            "\n",
            "Train Epoch: 14 [0/60000 (0%)]\tLoss: 1.756099\n",
            "\n",
            "Test set: Average loss: 1.6497, Image Accuracy: 9599/10000 (96%), Sum Accuracy: 8315/10000 (83%)\n",
            "\n",
            "Train Epoch: 15 [0/60000 (0%)]\tLoss: 1.746338\n",
            "\n",
            "Test set: Average loss: 1.6617, Image Accuracy: 9608/10000 (96%), Sum Accuracy: 8357/10000 (84%)\n",
            "\n",
            "Train Epoch: 16 [0/60000 (0%)]\tLoss: 1.670606\n",
            "\n",
            "Test set: Average loss: 1.6543, Image Accuracy: 9605/10000 (96%), Sum Accuracy: 8365/10000 (84%)\n",
            "\n",
            "Train Epoch: 17 [0/60000 (0%)]\tLoss: 1.695319\n",
            "\n",
            "Test set: Average loss: 1.6541, Image Accuracy: 9597/10000 (96%), Sum Accuracy: 8355/10000 (84%)\n",
            "\n",
            "Train Epoch: 18 [0/60000 (0%)]\tLoss: 1.797134\n",
            "\n",
            "Test set: Average loss: 1.6480, Image Accuracy: 9599/10000 (96%), Sum Accuracy: 8341/10000 (83%)\n",
            "\n",
            "Train Epoch: 19 [0/60000 (0%)]\tLoss: 1.760342\n",
            "\n",
            "Test set: Average loss: 1.6622, Image Accuracy: 9601/10000 (96%), Sum Accuracy: 8330/10000 (83%)\n",
            "\n",
            "Train Epoch: 20 [0/60000 (0%)]\tLoss: 1.783887\n",
            "\n",
            "Test set: Average loss: 1.6462, Image Accuracy: 9613/10000 (96%), Sum Accuracy: 8374/10000 (84%)\n",
            "\n"
          ]
        }
      ]
    },
    {
      "cell_type": "code",
      "metadata": {
        "id": "aKtO4AOxld6F"
      },
      "source": [
        ""
      ],
      "execution_count": 18,
      "outputs": []
    }
  ]
}